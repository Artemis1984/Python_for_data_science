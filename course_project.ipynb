{
 "cells": [
  {
   "cell_type": "code",
   "execution_count": 1,
   "metadata": {},
   "outputs": [],
   "source": [
    "import numpy as np\n",
    "import pandas as pd\n",
    "import matplotlib.pyplot as plt\n",
    "%matplotlib inline\n",
    "import warnings\n",
    "warnings.filterwarnings('ignore')\n",
    "from sklearn.ensemble import RandomForestRegressor as RFR\n",
    "from sklearn.model_selection import train_test_split\n",
    "from sklearn.metrics import r2_score as r2\n",
    "from collections import deque"
   ]
  },
  {
   "cell_type": "code",
   "execution_count": 2,
   "metadata": {},
   "outputs": [],
   "source": [
    "train = pd.read_csv('train.csv')\n",
    "train_copy = train.copy()"
   ]
  },
  {
   "cell_type": "code",
   "execution_count": 3,
   "metadata": {},
   "outputs": [],
   "source": [
    "def Correct_Square(train_copy):\n",
    "    \n",
    "    \n",
    "    null_list = train_copy.loc[train_copy.LifeSquare.isnull()].index   \n",
    "   \n",
    "    for i in null_list:\n",
    "        \n",
    "        train_copy.loc[i, 'LifeSquare'] = train_copy.loc[i]['Square'] - (train_copy.loc[i]['Square'] / 100 * 15) - \\\n",
    "                                        train_copy.loc[i]['KitchenSquare']\n",
    "    \n",
    "    \n",
    "    ID_List = train_copy.loc[train_copy['LifeSquare'] > train_copy['Square']].index\n",
    "    for i in ID_List:\n",
    "        temp = train_copy.loc[i]['LifeSquare']\n",
    "        train_copy.loc[i, 'LifeSquare'] = train_copy.loc[i]['Square']\n",
    "        train_copy.loc[i, 'Square'] = temp\n",
    "    \n",
    "    \n",
    "    indexoid = train_copy.loc[train_copy.Square - train_copy.LifeSquare > train_copy.LifeSquare * 2].index\n",
    "    for i in indexoid:\n",
    "        train_copy.loc[i, 'LifeSquare'] = train_copy.loc[i]['Square'] - (train_copy.loc[i]['Square'] / 100 * 20) "
   ]
  },
  {
   "cell_type": "code",
   "execution_count": 4,
   "metadata": {},
   "outputs": [],
   "source": [
    "def Correct_floors(train_copy):\n",
    "    ID_List = []\n",
    "    ID_List.extend(train_copy.loc[train_copy['Floor'] > train_copy['HouseFloor']].index)\n",
    "    for i in ID_List:\n",
    "        if train_copy.loc[i]['Floor'] > -1:\n",
    "            temp = train_copy.loc[i]['Floor']\n",
    "            train_copy.loc[i, 'Floor'] = train_copy.loc[i]['HouseFloor']\n",
    "            train_copy.loc[i, 'HouseFloor'] = temp"
   ]
  },
  {
   "cell_type": "code",
   "execution_count": 5,
   "metadata": {},
   "outputs": [],
   "source": [
    "def Correct_other(train_copy):\n",
    "    train_copy.loc[train_copy['HouseYear'] > 2019, 'HouseYear'] = train_copy['HouseYear'].median()\n",
    "    train_copy.loc[train_copy.KitchenSquare > train_copy.Square, 'KitchenSquare'] = train_copy.loc[train_copy.KitchenSquare > train_copy.Square]['Square'] - train_copy.loc[train_copy.KitchenSquare > train_copy.Square]['LifeSquare']\n",
    "    train_copy.loc[train_copy.HouseFloor > 50, 'HouseFloor'] = train_copy.loc[train_copy.HouseFloor > 50]['Floor'].median() + 10\n",
    "    train_copy.loc[(train_copy.Rooms > 5) & (train_copy.loc[train_copy.Rooms > 5]['Square'] < train_copy.loc[train_copy.Rooms == 5]['Square'].mean()), 'Rooms'] = train_copy.loc[train_copy.Rooms]['Rooms'].median() \n",
    "    train_copy.loc[train_copy.Square > (train_copy.loc[train_copy.Rooms, 'Square'].mean() + 100), 'Square'] = train_copy.loc[train_copy.Rooms, 'Square'].mean()\n",
    "    train_copy.drop('Healthcare_1', axis=1, inplace=True)\n",
    "    \n",
    "    train_copy.loc[train_copy.Square - train_copy.LifeSquare < train_copy.KitchenSquare, 'LifeSquare'] = \\\n",
    "    train_copy.loc[train_copy.Square - train_copy.LifeSquare < train_copy.KitchenSquare]['Square'] - \\\n",
    "    train_copy.loc[train_copy.Square - train_copy.LifeSquare < train_copy.KitchenSquare]['KitchenSquare']\n",
    "    \n",
    "    "
   ]
  },
  {
   "cell_type": "code",
   "execution_count": 6,
   "metadata": {},
   "outputs": [],
   "source": [
    "features = ['Id', 'DistrictId', 'Rooms', 'Square', 'LifeSquare', 'KitchenSquare',\n",
    "       'Floor', 'HouseFloor', 'HouseYear', 'Ecology_1', 'Social_1', 'Social_2', 'Social_3', 'Helthcare_2',\n",
    "       'Shops_1']\n",
    "target = ['Price']"
   ]
  },
  {
   "cell_type": "code",
   "execution_count": 7,
   "metadata": {},
   "outputs": [],
   "source": [
    " def prepare_features(train_copy):\n",
    "    \n",
    "    Correct_floors(train_copy)\n",
    "    Correct_other(train_copy)\n",
    "    Correct_Square(train_copy)\n"
   ]
  },
  {
   "cell_type": "code",
   "execution_count": 8,
   "metadata": {},
   "outputs": [],
   "source": [
    "prepare_features(train_copy)"
   ]
  },
  {
   "cell_type": "code",
   "execution_count": 9,
   "metadata": {},
   "outputs": [],
   "source": [
    "X_train, X_valid, y_train, y_valid = train_test_split(train_copy[features], train_copy[target], \\\n",
    "                                                      test_size=0.3, random_state=42)"
   ]
  },
  {
   "cell_type": "code",
   "execution_count": 10,
   "metadata": {},
   "outputs": [
    {
     "data": {
      "text/plain": [
       "0.6581623386589152"
      ]
     },
     "execution_count": 10,
     "metadata": {},
     "output_type": "execute_result"
    }
   ],
   "source": [
    "model = RFR(n_estimators=5, max_depth=12, random_state=42)\n",
    "model.fit(X_train, y_train)\n",
    "y_pred = model.predict(X_valid)\n",
    "r2(y_valid, y_pred)"
   ]
  },
  {
   "cell_type": "code",
   "execution_count": 11,
   "metadata": {},
   "outputs": [],
   "source": [
    "def Testing_models():\n",
    "    \n",
    "    r2_value = 0\n",
    "    estimator = 0\n",
    "    depth = 0\n",
    "    \n",
    "    for n_estimators in range(1, 16):\n",
    "        for max_depth in range(1, 25, 2):\n",
    "            model = RFR(n_estimators=n_estimators, max_depth=max_depth, random_state=42)\n",
    "            model.fit(X_train, y_train)\n",
    "            y_pred = model.predict(X_valid)\n",
    "            if r2_value < r2(y_valid, y_pred):\n",
    "                r2_value = r2(y_valid, y_pred)\n",
    "                estimator = n_estimators\n",
    "                depth = max_depth\n",
    "           \n",
    "    \n",
    "    return estimator, depth, r2_value"
   ]
  },
  {
   "cell_type": "code",
   "execution_count": 12,
   "metadata": {},
   "outputs": [],
   "source": [
    "def Testing_models_extended(X_train, X_valid, y_train, y_valid):\n",
    "    \n",
    "    r2_value = 0\n",
    "    estimator = 0\n",
    "    depth = 0\n",
    "    \n",
    "    for n_estimators in range(1, 16):\n",
    "        for max_depth in range(1, 25, 2):\n",
    "            model = RFR(n_estimators=n_estimators, max_depth=max_depth, random_state=42)\n",
    "            model.fit(X_train, y_train)\n",
    "            y_pred = model.predict(X_valid)\n",
    "            if r2_value < r2(y_valid, y_pred):\n",
    "                r2_value = r2(y_valid, y_pred)\n",
    "                estimator = n_estimators\n",
    "                depth = max_depth\n",
    "    \n",
    "    \n",
    "    \n",
    "    return estimator, depth, r2_value"
   ]
  },
  {
   "cell_type": "code",
   "execution_count": 13,
   "metadata": {},
   "outputs": [
    {
     "data": {
      "text/plain": [
       "(15, 13, 0.6967634183834759)"
      ]
     },
     "execution_count": 13,
     "metadata": {},
     "output_type": "execute_result"
    }
   ],
   "source": [
    "n_estimator, max_depth, r2_value = Testing_models()\n",
    "n_estimator, max_depth, r2_value"
   ]
  },
  {
   "cell_type": "code",
   "execution_count": 14,
   "metadata": {},
   "outputs": [],
   "source": [
    "best_r2_yet = r2_value"
   ]
  },
  {
   "cell_type": "code",
   "execution_count": 15,
   "metadata": {},
   "outputs": [],
   "source": [
    "final_model = RFR(n_estimators=n_estimator, max_depth=max_depth, random_state=42)"
   ]
  },
  {
   "cell_type": "code",
   "execution_count": 16,
   "metadata": {},
   "outputs": [],
   "source": [
    "\n",
    "def Testing_features(features, best_r2_yet):\n",
    "    \n",
    "    test_features = deque()\n",
    "    \n",
    "# отбор по возрастанию, но менее эффективный    \n",
    "    \n",
    "#     r2_best = -100\n",
    "#     best_feat_list = [None for i in range(len(features))]\n",
    "#     test_features = features.copy()\n",
    "#     final_list = []\n",
    "    \n",
    "    \n",
    "#     for i in range(len(test_features)):\n",
    "        \n",
    "#         best_feat = None\n",
    "        \n",
    "#         for j in range(len(test_features)):\n",
    "            \n",
    "#             if not(test_features[j] in best_feat_list):\n",
    "                \n",
    "#                 best_feat_list[i] = test_features[j]\n",
    "\n",
    "#             else:\n",
    "#                 continue\n",
    "            \n",
    "#             final_model.fit(X_train[best_feat_list[:i+1]], y_train)\n",
    "#             y_pred = final_model.predict(X_valid[best_feat_list[:i+1]])\n",
    "            \n",
    "#             if r2_best < r2(y_valid, y_pred):\n",
    "#                 r2_best = r2(y_valid, y_pred)\n",
    "#                 best_feat = test_features[j]\n",
    "\n",
    "        \n",
    "#         if best_feat != None:\n",
    "# #             print(best_feat, i)\n",
    "#             print(r2_best)\n",
    "#             best_feat_list[i] = best_feat\n",
    "#             final_list.append(best_feat)\n",
    "       \n",
    "        \n",
    "#     return final_list, r2_best\n",
    "\n",
    "\n",
    "# отбор по убыванию\n",
    "\n",
    "    \n",
    "    flag = True\n",
    "    r2_best = 0\n",
    "    test_features = deque(features.copy())\n",
    "    del_list = []\n",
    "    must_del_feat = None\n",
    "    best_r2_yet = best_r2_yet\n",
    "    \n",
    "    while flag:\n",
    "        \n",
    "        for i in range(len(test_features)):\n",
    "            \n",
    "            del_list.append(test_features.pop())\n",
    "            \n",
    "            final_model.fit(X_train[test_features], y_train)\n",
    "            y_pred = final_model.predict(X_valid[test_features])\n",
    "            \n",
    "            if r2_best < r2(y_valid, y_pred):\n",
    "                \n",
    "                r2_best = r2(y_valid, y_pred)\n",
    "                \n",
    "                must_del_feat = del_list[0]\n",
    "                \n",
    "            test_features.appendleft(del_list.pop())\n",
    "        \n",
    "        if best_r2_yet < r2_best:\n",
    "            \n",
    "            best_r2_yet = r2_best\n",
    "            test_features.remove(must_del_feat)\n",
    "            \n",
    "        else:\n",
    "            flag = False\n",
    "                \n",
    "    \n",
    "    \n",
    "    return test_features, best_r2_yet"
   ]
  },
  {
   "cell_type": "code",
   "execution_count": 17,
   "metadata": {},
   "outputs": [
    {
     "data": {
      "text/plain": [
       "(deque(['Square',\n",
       "        'LifeSquare',\n",
       "        'KitchenSquare',\n",
       "        'HouseFloor',\n",
       "        'HouseYear',\n",
       "        'Ecology_1',\n",
       "        'Social_1',\n",
       "        'Social_2',\n",
       "        'Social_3',\n",
       "        'Helthcare_2']),\n",
       " 0.7183043675097857)"
      ]
     },
     "execution_count": 17,
     "metadata": {},
     "output_type": "execute_result"
    }
   ],
   "source": [
    "\n",
    "Testing_features(features, best_r2_yet)\n"
   ]
  },
  {
   "cell_type": "code",
   "execution_count": 18,
   "metadata": {},
   "outputs": [],
   "source": [
    "all_feattures = train_copy[train_copy.columns[:-1]].copy()"
   ]
  },
  {
   "cell_type": "code",
   "execution_count": 19,
   "metadata": {},
   "outputs": [],
   "source": [
    "all_feattures = pd.get_dummies(all_feattures)"
   ]
  },
  {
   "cell_type": "code",
   "execution_count": 20,
   "metadata": {},
   "outputs": [],
   "source": [
    "all_X_train, all_X_valid, all_y_train, all_y_valid = train_test_split(all_feattures, train_copy['Price'], \\\n",
    "                                                      test_size=0.3, random_state=42)\n",
    "\n",
    "all_feat_model = RFR(n_estimators=n_estimator, max_depth=max_depth, random_state=42)"
   ]
  },
  {
   "cell_type": "code",
   "execution_count": 21,
   "metadata": {},
   "outputs": [
    {
     "data": {
      "text/plain": [
       "RandomForestRegressor(bootstrap=True, criterion='mse', max_depth=13,\n",
       "                      max_features='auto', max_leaf_nodes=None,\n",
       "                      min_impurity_decrease=0.0, min_impurity_split=None,\n",
       "                      min_samples_leaf=1, min_samples_split=2,\n",
       "                      min_weight_fraction_leaf=0.0, n_estimators=15,\n",
       "                      n_jobs=None, oob_score=False, random_state=42, verbose=0,\n",
       "                      warm_start=False)"
      ]
     },
     "execution_count": 21,
     "metadata": {},
     "output_type": "execute_result"
    }
   ],
   "source": [
    "all_feat_model.fit(all_X_train, all_y_train)"
   ]
  },
  {
   "cell_type": "code",
   "execution_count": 22,
   "metadata": {},
   "outputs": [
    {
     "data": {
      "text/plain": [
       "0.6899919085049295"
      ]
     },
     "execution_count": 22,
     "metadata": {},
     "output_type": "execute_result"
    }
   ],
   "source": [
    "\n",
    "all_y_predict = all_feat_model.predict(all_X_valid)\n",
    "all_r2_best_yet = r2(all_y_valid, all_y_predict)\n",
    "all_r2_best_yet"
   ]
  },
  {
   "cell_type": "code",
   "execution_count": 23,
   "metadata": {},
   "outputs": [],
   "source": [
    "def Test_all_feats(features, best_r2_yet):\n",
    "    flag = True\n",
    "    r2_best = best_r2_yet\n",
    "    test_features = deque(features.copy())\n",
    "    del_list = []\n",
    "    must_del_feat = None\n",
    "    final_list = []\n",
    "    \n",
    "    \n",
    "    while flag:\n",
    "        \n",
    "        for i in range(len(test_features)):\n",
    "            \n",
    "            \n",
    "            del_list.append(test_features.pop())\n",
    "            \n",
    "            all_X_train, all_X_valid, all_y_train, all_y_valid = train_test_split(all_feattures[test_features], train_copy[target], \\\n",
    "                                                      test_size=0.3, random_state=42)\n",
    "\n",
    "            all_feat_model = RFR(n_estimators=n_estimator, max_depth=max_depth, random_state=42)\n",
    "    \n",
    "            \n",
    "            \n",
    "            all_feat_model.fit(all_X_train, all_y_train)\n",
    "            \n",
    "            y_pred = all_feat_model.predict(all_X_valid)\n",
    "    \n",
    "    \n",
    "    \n",
    "            \n",
    "            if r2_best < r2(all_y_valid, y_pred):\n",
    "                \n",
    "                r2_best = r2(all_y_valid, y_pred)\n",
    "                \n",
    "                must_del_feat = del_list[0]\n",
    "                \n",
    "                print(r2(all_y_valid, y_pred))\n",
    "                print(len(test_features))\n",
    "                print(test_features)\n",
    "                final_list = test_features.copy()\n",
    "                print()\n",
    "                \n",
    "            test_features.appendleft(del_list.pop())\n",
    "        \n",
    "        if best_r2_yet < r2_best:\n",
    "            \n",
    "            best_r2_yet = r2_best\n",
    "            test_features.remove(must_del_feat)\n",
    "                \n",
    "            \n",
    "        else:\n",
    "            flag = False\n",
    "                \n",
    "\n",
    "    \n",
    "    return final_list, best_r2_yet, len(test_features), "
   ]
  },
  {
   "cell_type": "code",
   "execution_count": 24,
   "metadata": {},
   "outputs": [
    {
     "name": "stdout",
     "output_type": "stream",
     "text": [
      "0.6929937952128231\n",
      "20\n",
      "deque(['Id', 'DistrictId', 'Rooms', 'Square', 'LifeSquare', 'KitchenSquare', 'Floor', 'HouseFloor', 'HouseYear', 'Ecology_1', 'Social_1', 'Social_2', 'Social_3', 'Helthcare_2', 'Shops_1', 'Ecology_2_A', 'Ecology_2_B', 'Ecology_3_A', 'Ecology_3_B', 'Shops_2_A'])\n",
      "\n",
      "0.6942837588886224\n",
      "20\n",
      "deque(['Shops_2_B', 'Id', 'DistrictId', 'Rooms', 'Square', 'LifeSquare', 'KitchenSquare', 'Floor', 'HouseFloor', 'HouseYear', 'Ecology_1', 'Social_1', 'Social_2', 'Social_3', 'Helthcare_2', 'Shops_1', 'Ecology_2_A', 'Ecology_2_B', 'Ecology_3_A', 'Ecology_3_B'])\n",
      "\n",
      "0.6971043667075933\n",
      "20\n",
      "deque(['Ecology_3_B', 'Shops_2_A', 'Shops_2_B', 'Id', 'DistrictId', 'Rooms', 'Square', 'LifeSquare', 'KitchenSquare', 'Floor', 'HouseFloor', 'HouseYear', 'Ecology_1', 'Social_1', 'Social_2', 'Social_3', 'Helthcare_2', 'Shops_1', 'Ecology_2_A', 'Ecology_2_B'])\n",
      "\n",
      "0.6974855588797736\n",
      "20\n",
      "deque(['DistrictId', 'Rooms', 'Square', 'LifeSquare', 'KitchenSquare', 'Floor', 'HouseFloor', 'HouseYear', 'Ecology_1', 'Social_1', 'Social_2', 'Social_3', 'Helthcare_2', 'Shops_1', 'Ecology_2_A', 'Ecology_2_B', 'Ecology_3_A', 'Ecology_3_B', 'Shops_2_A', 'Shops_2_B'])\n",
      "\n",
      "0.7003895820088207\n",
      "19\n",
      "deque(['DistrictId', 'Rooms', 'Square', 'LifeSquare', 'KitchenSquare', 'Floor', 'HouseFloor', 'HouseYear', 'Ecology_1', 'Social_1', 'Social_2', 'Social_3', 'Helthcare_2', 'Shops_1', 'Ecology_2_A', 'Ecology_2_B', 'Ecology_3_A', 'Ecology_3_B', 'Shops_2_A'])\n",
      "\n",
      "0.7023601762668936\n",
      "19\n",
      "deque(['Shops_2_B', 'DistrictId', 'Rooms', 'Square', 'LifeSquare', 'KitchenSquare', 'Floor', 'HouseFloor', 'HouseYear', 'Ecology_1', 'Social_1', 'Social_2', 'Social_3', 'Helthcare_2', 'Shops_1', 'Ecology_2_A', 'Ecology_2_B', 'Ecology_3_A', 'Ecology_3_B'])\n",
      "\n",
      "0.703263238048375\n",
      "19\n",
      "deque(['HouseFloor', 'HouseYear', 'Ecology_1', 'Social_1', 'Social_2', 'Social_3', 'Helthcare_2', 'Shops_1', 'Ecology_2_A', 'Ecology_2_B', 'Ecology_3_A', 'Ecology_3_B', 'Shops_2_A', 'Shops_2_B', 'DistrictId', 'Rooms', 'Square', 'LifeSquare', 'KitchenSquare'])\n",
      "\n",
      "0.705513501945172\n",
      "19\n",
      "deque(['Square', 'LifeSquare', 'KitchenSquare', 'Floor', 'HouseFloor', 'HouseYear', 'Ecology_1', 'Social_1', 'Social_2', 'Social_3', 'Helthcare_2', 'Shops_1', 'Ecology_2_A', 'Ecology_2_B', 'Ecology_3_A', 'Ecology_3_B', 'Shops_2_A', 'Shops_2_B', 'DistrictId'])\n",
      "\n",
      "0.7076382501110188\n",
      "18\n",
      "deque(['DistrictId', 'Square', 'LifeSquare', 'KitchenSquare', 'Floor', 'HouseFloor', 'HouseYear', 'Ecology_1', 'Social_1', 'Social_2', 'Social_3', 'Helthcare_2', 'Shops_1', 'Ecology_2_A', 'Ecology_2_B', 'Ecology_3_A', 'Ecology_3_B', 'Shops_2_A'])\n",
      "\n",
      "0.7094087313519781\n",
      "18\n",
      "deque(['Ecology_3_B', 'Shops_2_A', 'Shops_2_B', 'DistrictId', 'Square', 'LifeSquare', 'KitchenSquare', 'Floor', 'HouseFloor', 'HouseYear', 'Ecology_1', 'Social_1', 'Social_2', 'Social_3', 'Helthcare_2', 'Shops_1', 'Ecology_2_A', 'Ecology_2_B'])\n",
      "\n",
      "0.7115641798727099\n",
      "18\n",
      "deque(['HouseFloor', 'HouseYear', 'Ecology_1', 'Social_1', 'Social_2', 'Social_3', 'Helthcare_2', 'Shops_1', 'Ecology_2_A', 'Ecology_2_B', 'Ecology_3_A', 'Ecology_3_B', 'Shops_2_A', 'Shops_2_B', 'DistrictId', 'Square', 'LifeSquare', 'KitchenSquare'])\n",
      "\n",
      "0.7135192314699292\n",
      "17\n",
      "deque(['Shops_2_B', 'DistrictId', 'Square', 'LifeSquare', 'KitchenSquare', 'HouseFloor', 'HouseYear', 'Ecology_1', 'Social_1', 'Social_2', 'Social_3', 'Helthcare_2', 'Shops_1', 'Ecology_2_A', 'Ecology_2_B', 'Ecology_3_A', 'Ecology_3_B'])\n",
      "\n",
      "0.7145445566596107\n",
      "16\n",
      "deque(['Ecology_2_A', 'Ecology_2_B', 'Ecology_3_A', 'Ecology_3_B', 'Shops_2_B', 'DistrictId', 'Square', 'LifeSquare', 'KitchenSquare', 'HouseFloor', 'HouseYear', 'Ecology_1', 'Social_1', 'Social_2', 'Social_3', 'Helthcare_2'])\n",
      "\n",
      "0.7149412494647449\n",
      "15\n",
      "deque(['Shops_2_B', 'DistrictId', 'Square', 'LifeSquare', 'KitchenSquare', 'HouseFloor', 'HouseYear', 'Ecology_1', 'Social_1', 'Social_2', 'Social_3', 'Helthcare_2', 'Ecology_2_A', 'Ecology_2_B', 'Ecology_3_A'])\n",
      "\n",
      "0.716613047418647\n",
      "15\n",
      "deque(['Ecology_3_B', 'Shops_2_B', 'DistrictId', 'Square', 'LifeSquare', 'KitchenSquare', 'HouseFloor', 'HouseYear', 'Ecology_1', 'Social_1', 'Social_2', 'Social_3', 'Helthcare_2', 'Ecology_2_A', 'Ecology_2_B'])\n",
      "\n"
     ]
    },
    {
     "data": {
      "text/plain": [
       "deque(['Ecology_3_B',\n",
       "       'Shops_2_B',\n",
       "       'DistrictId',\n",
       "       'Square',\n",
       "       'LifeSquare',\n",
       "       'KitchenSquare',\n",
       "       'HouseFloor',\n",
       "       'HouseYear',\n",
       "       'Ecology_1',\n",
       "       'Social_1',\n",
       "       'Social_2',\n",
       "       'Social_3',\n",
       "       'Helthcare_2',\n",
       "       'Ecology_2_A',\n",
       "       'Ecology_2_B'])"
      ]
     },
     "execution_count": 24,
     "metadata": {},
     "output_type": "execute_result"
    }
   ],
   "source": [
    "optimal_features, R2_score_, feat_list_len = Test_all_feats(all_feattures, all_r2_best_yet)\n",
    "optimal_features"
   ]
  },
  {
   "cell_type": "code",
   "execution_count": 25,
   "metadata": {},
   "outputs": [
    {
     "data": {
      "text/plain": [
       "(0.716613047418647, 15)"
      ]
     },
     "execution_count": 25,
     "metadata": {},
     "output_type": "execute_result"
    }
   ],
   "source": [
    "R2_score_, feat_list_len"
   ]
  },
  {
   "cell_type": "code",
   "execution_count": 26,
   "metadata": {},
   "outputs": [],
   "source": [
    "train_last_copy = train.copy()\n",
    "train_last_copy = pd.get_dummies(train_last_copy)\n",
    "optimal_features = list(optimal_features)\n",
    "prepare_features(train_last_copy)\n",
    "X_train_last, X_valid_last, y_train_last, y_valid_last = train_test_split(train_last_copy[optimal_features], train_last_copy[target], \\\n",
    "                                                      test_size=0.3, random_state=42)"
   ]
  },
  {
   "cell_type": "code",
   "execution_count": 27,
   "metadata": {},
   "outputs": [],
   "source": [
    "n_estimator, max_depth, r2_value = Testing_models_extended(X_train_last, X_valid_last, y_train_last, y_valid_last)"
   ]
  },
  {
   "cell_type": "code",
   "execution_count": 28,
   "metadata": {},
   "outputs": [
    {
     "data": {
      "text/plain": [
       "(14, 13, 0.7169341061704311)"
      ]
     },
     "execution_count": 28,
     "metadata": {},
     "output_type": "execute_result"
    }
   ],
   "source": [
    "n_estimator, max_depth, r2_value"
   ]
  },
  {
   "cell_type": "markdown",
   "metadata": {},
   "source": [
    "### финализируем"
   ]
  },
  {
   "cell_type": "code",
   "execution_count": 29,
   "metadata": {},
   "outputs": [],
   "source": [
    "test = pd.read_csv('test.csv')\n",
    "test_copy = test.copy()"
   ]
  },
  {
   "cell_type": "code",
   "execution_count": 30,
   "metadata": {},
   "outputs": [],
   "source": [
    "test_copy = pd.get_dummies(test_copy)"
   ]
  },
  {
   "cell_type": "code",
   "execution_count": 31,
   "metadata": {},
   "outputs": [],
   "source": [
    "prepare_features(test_copy)"
   ]
  },
  {
   "cell_type": "code",
   "execution_count": 32,
   "metadata": {},
   "outputs": [
    {
     "data": {
      "text/html": [
       "<div>\n",
       "<style scoped>\n",
       "    .dataframe tbody tr th:only-of-type {\n",
       "        vertical-align: middle;\n",
       "    }\n",
       "\n",
       "    .dataframe tbody tr th {\n",
       "        vertical-align: top;\n",
       "    }\n",
       "\n",
       "    .dataframe thead th {\n",
       "        text-align: right;\n",
       "    }\n",
       "</style>\n",
       "<table border=\"1\" class=\"dataframe\">\n",
       "  <thead>\n",
       "    <tr style=\"text-align: right;\">\n",
       "      <th></th>\n",
       "      <th>Id</th>\n",
       "      <th>DistrictId</th>\n",
       "      <th>Rooms</th>\n",
       "      <th>Square</th>\n",
       "      <th>LifeSquare</th>\n",
       "      <th>KitchenSquare</th>\n",
       "      <th>Floor</th>\n",
       "      <th>HouseFloor</th>\n",
       "      <th>HouseYear</th>\n",
       "      <th>Ecology_1</th>\n",
       "      <th>...</th>\n",
       "      <th>Social_2</th>\n",
       "      <th>Social_3</th>\n",
       "      <th>Helthcare_2</th>\n",
       "      <th>Shops_1</th>\n",
       "      <th>Ecology_2_A</th>\n",
       "      <th>Ecology_2_B</th>\n",
       "      <th>Ecology_3_A</th>\n",
       "      <th>Ecology_3_B</th>\n",
       "      <th>Shops_2_A</th>\n",
       "      <th>Shops_2_B</th>\n",
       "    </tr>\n",
       "  </thead>\n",
       "  <tbody>\n",
       "    <tr>\n",
       "      <th>count</th>\n",
       "      <td>5000.000000</td>\n",
       "      <td>5000.000000</td>\n",
       "      <td>5000.000000</td>\n",
       "      <td>5000.000000</td>\n",
       "      <td>5000.000000</td>\n",
       "      <td>5000.000000</td>\n",
       "      <td>5000.000000</td>\n",
       "      <td>5000.000000</td>\n",
       "      <td>5000.000000</td>\n",
       "      <td>5000.000000</td>\n",
       "      <td>...</td>\n",
       "      <td>5000.000000</td>\n",
       "      <td>5000.000000</td>\n",
       "      <td>5000.00000</td>\n",
       "      <td>5000.000000</td>\n",
       "      <td>5000.000000</td>\n",
       "      <td>5000.000000</td>\n",
       "      <td>5000.000000</td>\n",
       "      <td>5000.000000</td>\n",
       "      <td>5000.000000</td>\n",
       "      <td>5000.000000</td>\n",
       "    </tr>\n",
       "    <tr>\n",
       "      <th>mean</th>\n",
       "      <td>8412.595400</td>\n",
       "      <td>51.279200</td>\n",
       "      <td>1.906200</td>\n",
       "      <td>56.210653</td>\n",
       "      <td>39.483573</td>\n",
       "      <td>5.830664</td>\n",
       "      <td>7.838000</td>\n",
       "      <td>13.371600</td>\n",
       "      <td>1984.315200</td>\n",
       "      <td>0.119874</td>\n",
       "      <td>...</td>\n",
       "      <td>5406.900000</td>\n",
       "      <td>8.262600</td>\n",
       "      <td>1.31940</td>\n",
       "      <td>4.242800</td>\n",
       "      <td>0.009600</td>\n",
       "      <td>0.990400</td>\n",
       "      <td>0.029800</td>\n",
       "      <td>0.970200</td>\n",
       "      <td>0.082400</td>\n",
       "      <td>0.917600</td>\n",
       "    </tr>\n",
       "    <tr>\n",
       "      <th>std</th>\n",
       "      <td>4832.674037</td>\n",
       "      <td>44.179466</td>\n",
       "      <td>0.808908</td>\n",
       "      <td>18.334214</td>\n",
       "      <td>16.763178</td>\n",
       "      <td>4.644416</td>\n",
       "      <td>5.454989</td>\n",
       "      <td>6.053597</td>\n",
       "      <td>18.514092</td>\n",
       "      <td>0.120070</td>\n",
       "      <td>...</td>\n",
       "      <td>4026.614773</td>\n",
       "      <td>23.863762</td>\n",
       "      <td>1.47994</td>\n",
       "      <td>4.777365</td>\n",
       "      <td>0.097518</td>\n",
       "      <td>0.097518</td>\n",
       "      <td>0.170052</td>\n",
       "      <td>0.170052</td>\n",
       "      <td>0.275001</td>\n",
       "      <td>0.275001</td>\n",
       "    </tr>\n",
       "    <tr>\n",
       "      <th>min</th>\n",
       "      <td>1.000000</td>\n",
       "      <td>0.000000</td>\n",
       "      <td>0.000000</td>\n",
       "      <td>1.378543</td>\n",
       "      <td>0.975769</td>\n",
       "      <td>0.000000</td>\n",
       "      <td>0.000000</td>\n",
       "      <td>1.000000</td>\n",
       "      <td>1908.000000</td>\n",
       "      <td>0.000000</td>\n",
       "      <td>...</td>\n",
       "      <td>168.000000</td>\n",
       "      <td>0.000000</td>\n",
       "      <td>0.00000</td>\n",
       "      <td>0.000000</td>\n",
       "      <td>0.000000</td>\n",
       "      <td>0.000000</td>\n",
       "      <td>0.000000</td>\n",
       "      <td>0.000000</td>\n",
       "      <td>0.000000</td>\n",
       "      <td>0.000000</td>\n",
       "    </tr>\n",
       "    <tr>\n",
       "      <th>25%</th>\n",
       "      <td>4221.750000</td>\n",
       "      <td>21.000000</td>\n",
       "      <td>1.000000</td>\n",
       "      <td>41.906231</td>\n",
       "      <td>27.232598</td>\n",
       "      <td>1.000000</td>\n",
       "      <td>4.000000</td>\n",
       "      <td>9.000000</td>\n",
       "      <td>1973.000000</td>\n",
       "      <td>0.019509</td>\n",
       "      <td>...</td>\n",
       "      <td>1564.000000</td>\n",
       "      <td>0.000000</td>\n",
       "      <td>0.00000</td>\n",
       "      <td>1.000000</td>\n",
       "      <td>0.000000</td>\n",
       "      <td>1.000000</td>\n",
       "      <td>0.000000</td>\n",
       "      <td>1.000000</td>\n",
       "      <td>0.000000</td>\n",
       "      <td>1.000000</td>\n",
       "    </tr>\n",
       "    <tr>\n",
       "      <th>50%</th>\n",
       "      <td>8320.500000</td>\n",
       "      <td>37.000000</td>\n",
       "      <td>2.000000</td>\n",
       "      <td>52.811661</td>\n",
       "      <td>35.667465</td>\n",
       "      <td>6.000000</td>\n",
       "      <td>7.000000</td>\n",
       "      <td>14.000000</td>\n",
       "      <td>1977.000000</td>\n",
       "      <td>0.072158</td>\n",
       "      <td>...</td>\n",
       "      <td>5285.000000</td>\n",
       "      <td>2.000000</td>\n",
       "      <td>1.00000</td>\n",
       "      <td>3.000000</td>\n",
       "      <td>0.000000</td>\n",
       "      <td>1.000000</td>\n",
       "      <td>0.000000</td>\n",
       "      <td>1.000000</td>\n",
       "      <td>0.000000</td>\n",
       "      <td>1.000000</td>\n",
       "    </tr>\n",
       "    <tr>\n",
       "      <th>75%</th>\n",
       "      <td>12598.250000</td>\n",
       "      <td>77.000000</td>\n",
       "      <td>2.000000</td>\n",
       "      <td>66.225831</td>\n",
       "      <td>48.377008</td>\n",
       "      <td>9.000000</td>\n",
       "      <td>11.000000</td>\n",
       "      <td>17.000000</td>\n",
       "      <td>2000.000000</td>\n",
       "      <td>0.195781</td>\n",
       "      <td>...</td>\n",
       "      <td>7287.000000</td>\n",
       "      <td>5.000000</td>\n",
       "      <td>2.00000</td>\n",
       "      <td>6.000000</td>\n",
       "      <td>0.000000</td>\n",
       "      <td>1.000000</td>\n",
       "      <td>0.000000</td>\n",
       "      <td>1.000000</td>\n",
       "      <td>0.000000</td>\n",
       "      <td>1.000000</td>\n",
       "    </tr>\n",
       "    <tr>\n",
       "      <th>max</th>\n",
       "      <td>16795.000000</td>\n",
       "      <td>212.000000</td>\n",
       "      <td>6.000000</td>\n",
       "      <td>141.540215</td>\n",
       "      <td>136.921090</td>\n",
       "      <td>112.000000</td>\n",
       "      <td>46.000000</td>\n",
       "      <td>48.000000</td>\n",
       "      <td>2019.000000</td>\n",
       "      <td>0.521867</td>\n",
       "      <td>...</td>\n",
       "      <td>19083.000000</td>\n",
       "      <td>141.000000</td>\n",
       "      <td>6.00000</td>\n",
       "      <td>23.000000</td>\n",
       "      <td>1.000000</td>\n",
       "      <td>1.000000</td>\n",
       "      <td>1.000000</td>\n",
       "      <td>1.000000</td>\n",
       "      <td>1.000000</td>\n",
       "      <td>1.000000</td>\n",
       "    </tr>\n",
       "  </tbody>\n",
       "</table>\n",
       "<p>8 rows × 21 columns</p>\n",
       "</div>"
      ],
      "text/plain": [
       "                 Id   DistrictId        Rooms       Square   LifeSquare  \\\n",
       "count   5000.000000  5000.000000  5000.000000  5000.000000  5000.000000   \n",
       "mean    8412.595400    51.279200     1.906200    56.210653    39.483573   \n",
       "std     4832.674037    44.179466     0.808908    18.334214    16.763178   \n",
       "min        1.000000     0.000000     0.000000     1.378543     0.975769   \n",
       "25%     4221.750000    21.000000     1.000000    41.906231    27.232598   \n",
       "50%     8320.500000    37.000000     2.000000    52.811661    35.667465   \n",
       "75%    12598.250000    77.000000     2.000000    66.225831    48.377008   \n",
       "max    16795.000000   212.000000     6.000000   141.540215   136.921090   \n",
       "\n",
       "       KitchenSquare        Floor   HouseFloor    HouseYear    Ecology_1  ...  \\\n",
       "count    5000.000000  5000.000000  5000.000000  5000.000000  5000.000000  ...   \n",
       "mean        5.830664     7.838000    13.371600  1984.315200     0.119874  ...   \n",
       "std         4.644416     5.454989     6.053597    18.514092     0.120070  ...   \n",
       "min         0.000000     0.000000     1.000000  1908.000000     0.000000  ...   \n",
       "25%         1.000000     4.000000     9.000000  1973.000000     0.019509  ...   \n",
       "50%         6.000000     7.000000    14.000000  1977.000000     0.072158  ...   \n",
       "75%         9.000000    11.000000    17.000000  2000.000000     0.195781  ...   \n",
       "max       112.000000    46.000000    48.000000  2019.000000     0.521867  ...   \n",
       "\n",
       "           Social_2     Social_3  Helthcare_2      Shops_1  Ecology_2_A  \\\n",
       "count   5000.000000  5000.000000   5000.00000  5000.000000  5000.000000   \n",
       "mean    5406.900000     8.262600      1.31940     4.242800     0.009600   \n",
       "std     4026.614773    23.863762      1.47994     4.777365     0.097518   \n",
       "min      168.000000     0.000000      0.00000     0.000000     0.000000   \n",
       "25%     1564.000000     0.000000      0.00000     1.000000     0.000000   \n",
       "50%     5285.000000     2.000000      1.00000     3.000000     0.000000   \n",
       "75%     7287.000000     5.000000      2.00000     6.000000     0.000000   \n",
       "max    19083.000000   141.000000      6.00000    23.000000     1.000000   \n",
       "\n",
       "       Ecology_2_B  Ecology_3_A  Ecology_3_B    Shops_2_A    Shops_2_B  \n",
       "count  5000.000000  5000.000000  5000.000000  5000.000000  5000.000000  \n",
       "mean      0.990400     0.029800     0.970200     0.082400     0.917600  \n",
       "std       0.097518     0.170052     0.170052     0.275001     0.275001  \n",
       "min       0.000000     0.000000     0.000000     0.000000     0.000000  \n",
       "25%       1.000000     0.000000     1.000000     0.000000     1.000000  \n",
       "50%       1.000000     0.000000     1.000000     0.000000     1.000000  \n",
       "75%       1.000000     0.000000     1.000000     0.000000     1.000000  \n",
       "max       1.000000     1.000000     1.000000     1.000000     1.000000  \n",
       "\n",
       "[8 rows x 21 columns]"
      ]
     },
     "execution_count": 32,
     "metadata": {},
     "output_type": "execute_result"
    }
   ],
   "source": [
    "test_copy.describe()"
   ]
  },
  {
   "cell_type": "code",
   "execution_count": 33,
   "metadata": {},
   "outputs": [],
   "source": [
    "\n",
    "test_model = RFR(n_estimators=n_estimator, max_depth=max_depth, random_state=42)"
   ]
  },
  {
   "cell_type": "code",
   "execution_count": 34,
   "metadata": {},
   "outputs": [
    {
     "data": {
      "text/plain": [
       "RandomForestRegressor(bootstrap=True, criterion='mse', max_depth=13,\n",
       "                      max_features='auto', max_leaf_nodes=None,\n",
       "                      min_impurity_decrease=0.0, min_impurity_split=None,\n",
       "                      min_samples_leaf=1, min_samples_split=2,\n",
       "                      min_weight_fraction_leaf=0.0, n_estimators=14,\n",
       "                      n_jobs=None, oob_score=False, random_state=42, verbose=0,\n",
       "                      warm_start=False)"
      ]
     },
     "execution_count": 34,
     "metadata": {},
     "output_type": "execute_result"
    }
   ],
   "source": [
    "test_model.fit(X_train_last, y_train_last)"
   ]
  },
  {
   "cell_type": "code",
   "execution_count": 35,
   "metadata": {},
   "outputs": [],
   "source": [
    "test_model_pred = test_model.predict(X_valid_last)"
   ]
  },
  {
   "cell_type": "code",
   "execution_count": 36,
   "metadata": {},
   "outputs": [
    {
     "data": {
      "text/plain": [
       "0.7169341061704311"
      ]
     },
     "execution_count": 36,
     "metadata": {},
     "output_type": "execute_result"
    }
   ],
   "source": [
    "r2(y_valid_last, test_model_pred)"
   ]
  },
  {
   "cell_type": "code",
   "execution_count": 37,
   "metadata": {},
   "outputs": [],
   "source": [
    "test_final = test_model.predict(test_copy[optimal_features])"
   ]
  },
  {
   "cell_type": "code",
   "execution_count": 38,
   "metadata": {},
   "outputs": [],
   "source": [
    "document = pd.DataFrame({'Id': test_copy['Id'], 'Price': test_final})\n",
    "document.to_csv('Artem_Minasyan_predictions.csv', index=None)"
   ]
  },
  {
   "cell_type": "code",
   "execution_count": 39,
   "metadata": {},
   "outputs": [
    {
     "data": {
      "text/html": [
       "<div>\n",
       "<style scoped>\n",
       "    .dataframe tbody tr th:only-of-type {\n",
       "        vertical-align: middle;\n",
       "    }\n",
       "\n",
       "    .dataframe tbody tr th {\n",
       "        vertical-align: top;\n",
       "    }\n",
       "\n",
       "    .dataframe thead th {\n",
       "        text-align: right;\n",
       "    }\n",
       "</style>\n",
       "<table border=\"1\" class=\"dataframe\">\n",
       "  <thead>\n",
       "    <tr style=\"text-align: right;\">\n",
       "      <th></th>\n",
       "      <th>Id</th>\n",
       "      <th>Price</th>\n",
       "    </tr>\n",
       "  </thead>\n",
       "  <tbody>\n",
       "    <tr>\n",
       "      <th>0</th>\n",
       "      <td>725</td>\n",
       "      <td>154686.966833</td>\n",
       "    </tr>\n",
       "    <tr>\n",
       "      <th>1</th>\n",
       "      <td>15856</td>\n",
       "      <td>232548.135066</td>\n",
       "    </tr>\n",
       "    <tr>\n",
       "      <th>2</th>\n",
       "      <td>5480</td>\n",
       "      <td>172401.038017</td>\n",
       "    </tr>\n",
       "    <tr>\n",
       "      <th>3</th>\n",
       "      <td>15664</td>\n",
       "      <td>378635.066023</td>\n",
       "    </tr>\n",
       "    <tr>\n",
       "      <th>4</th>\n",
       "      <td>14275</td>\n",
       "      <td>144656.205283</td>\n",
       "    </tr>\n",
       "  </tbody>\n",
       "</table>\n",
       "</div>"
      ],
      "text/plain": [
       "      Id          Price\n",
       "0    725  154686.966833\n",
       "1  15856  232548.135066\n",
       "2   5480  172401.038017\n",
       "3  15664  378635.066023\n",
       "4  14275  144656.205283"
      ]
     },
     "execution_count": 39,
     "metadata": {},
     "output_type": "execute_result"
    }
   ],
   "source": [
    "document.head()"
   ]
  }
 ],
 "metadata": {
  "kernelspec": {
   "display_name": "Python 3",
   "language": "python",
   "name": "python3"
  },
  "language_info": {
   "codemirror_mode": {
    "name": "ipython",
    "version": 3
   },
   "file_extension": ".py",
   "mimetype": "text/x-python",
   "name": "python",
   "nbconvert_exporter": "python",
   "pygments_lexer": "ipython3",
   "version": "3.7.3"
  }
 },
 "nbformat": 4,
 "nbformat_minor": 2
}
